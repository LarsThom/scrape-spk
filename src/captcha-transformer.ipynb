{
 "cells": [
  {
   "cell_type": "code",
   "execution_count": 1,
   "metadata": {},
   "outputs": [
    {
     "name": "stderr",
     "output_type": "stream",
     "text": [
      "c:\\Users\\Lars Thomsen\\miniconda3\\envs\\scraper\\Lib\\site-packages\\tqdm\\auto.py:21: TqdmWarning: IProgress not found. Please update jupyter and ipywidgets. See https://ipywidgets.readthedocs.io/en/stable/user_install.html\n",
      "  from .autonotebook import tqdm as notebook_tqdm\n",
      "Loading checkpoint shards: 100%|██████████| 3/3 [00:27<00:00,  9.21s/it]\n"
     ]
    }
   ],
   "source": [
    "# ca. 11 GB\n",
    "# git clone https://huggingface.co/google/paligemma-3b-mix-448\n",
    "from paligemma import PaliGemma\n",
    "model = PaliGemma(model_id=\"../model/paligemma-3b-mix-448\")"
   ]
  },
  {
   "cell_type": "code",
   "execution_count": 4,
   "metadata": {},
   "outputs": [
    {
     "name": "stdout",
     "output_type": "stream",
     "text": [
      "DUSMDR\n"
     ]
    }
   ],
   "source": [
    "text_prompt = 'What is written on the image?'\n",
    "\n",
    "# url vom captcha durch session immer gleich, solange die session nicht abläuft (k.a wie lange)\n",
    "image_url = \"https://www.unternehmensregister.de/ureg/captchas.html;jsessionid=88E6C2EE4C92A601B607107F1AF33A76.web03-1?submitaction=captchaData\"\n",
    "output = model.run(text_prompt, image_url)\n",
    "print(output)"
   ]
  }
 ],
 "metadata": {
  "kernelspec": {
   "display_name": "scraper",
   "language": "python",
   "name": "python3"
  },
  "language_info": {
   "codemirror_mode": {
    "name": "ipython",
    "version": 3
   },
   "file_extension": ".py",
   "mimetype": "text/x-python",
   "name": "python",
   "nbconvert_exporter": "python",
   "pygments_lexer": "ipython3",
   "version": "3.12.4"
  }
 },
 "nbformat": 4,
 "nbformat_minor": 2
}
